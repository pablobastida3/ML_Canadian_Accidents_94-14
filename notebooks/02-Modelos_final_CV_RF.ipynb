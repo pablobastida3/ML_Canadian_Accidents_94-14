{
 "cells": [
  {
   "cell_type": "markdown",
   "id": "123c5be7",
   "metadata": {},
   "source": [
    "# Modelos de predicción"
   ]
  },
  {
   "cell_type": "markdown",
   "id": "401524e8",
   "metadata": {},
   "source": [
    " <ul>\n",
    "<li> Autores: Alberto Doncel Pedrosa y Pablo Bastida Escudero</li>\n",
    "<li> Fecha: 16/12/2021</li>\n",
    "<li> Email: pablo.bastida@cunef.edu y alberto.doncel@cunef.edu</li>\n",
    "<li> Centro: CUNEF Universidad</li>    \n",
    "</ul>"
   ]
  },
  {
   "cell_type": "markdown",
   "id": "f41c6ffe",
   "metadata": {},
   "source": [
    "## Cargamos las librerias que vamos a utilizar"
   ]
  },
  {
   "cell_type": "code",
   "execution_count": 1,
   "id": "5393fda2",
   "metadata": {},
   "outputs": [
    {
     "name": "stderr",
     "output_type": "stream",
     "text": [
      "C:\\Users\\pablo\\anaconda3\\envs\\Entorno1\\lib\\site-packages\\numpy\\_distributor_init.py:30: UserWarning: loaded more than 1 DLL from .libs:\n",
      "C:\\Users\\pablo\\anaconda3\\envs\\Entorno1\\lib\\site-packages\\numpy\\.libs\\libopenblas.GK7GX5KEQ4F6UYO3P26ULGBQYHGQO7J4.gfortran-win_amd64.dll\n",
      "C:\\Users\\pablo\\anaconda3\\envs\\Entorno1\\lib\\site-packages\\numpy\\.libs\\libopenblas.XWYDX2IKJW2NMTWSFYNGFUWKQU3LYTCZ.gfortran-win_amd64.dll\n",
      "  warnings.warn(\"loaded more than 1 DLL from .libs:\"\n"
     ]
    }
   ],
   "source": [
    "import pandas as pd \n",
    "import numpy as np\n",
    "import sklearn\n",
    "from sklearn.pipeline import Pipeline\n",
    "from sklearn import metrics\n",
    "from sklearn.metrics import classification_report, confusion_matrix, roc_curve, auc, \\\n",
    "                            silhouette_score, recall_score, precision_score, make_scorer, \\\n",
    "                            roc_auc_score, f1_score, precision_recall_curve, plot_confusion_matrix, accuracy_score\n",
    "import category_encoders as ce\n",
    "from sklearn.preprocessing import OneHotEncoder\n",
    "import matplotlib.pyplot as plt\n",
    "import seaborn as sns\n",
    "from sklearn.feature_selection import SelectFromModel\n",
    "from sklearn.linear_model import LogisticRegression\n",
    "import joblib\n",
    "import time\n",
    "from sklearn.ensemble import RandomForestClassifier\n",
    "from sklearn.preprocessing import StandardScaler\n",
    "from sklearn.compose import ColumnTransformer\n",
    "from sklearn import svm\n",
    "import lightgbm\n",
    "from lightgbm import LGBMClassifier\n",
    "import xgboost as xgb\n",
    "from xgboost import XGBClassifier\n",
    "import sys\n",
    "import pickle\n",
    "%matplotlib inline\n",
    "import statsmodels.api as sm\n",
    "from scipy import stats\n",
    "from sklearn.linear_model import SGDClassifier\n",
    "from sklearn.model_selection import GridSearchCV, RandomizedSearchCV"
   ]
  },
  {
   "cell_type": "code",
   "execution_count": 2,
   "id": "07143681",
   "metadata": {},
   "outputs": [],
   "source": [
    "# Cargamos los datos\n",
    "collision_xtrain_scaled= pd.read_csv('../data/collision_xtrain_SMOTED.csv')\n",
    "collision_ytrain= pd.read_csv('../data/collision_ytrain_SMOTED.csv')\n",
    "collision_xtest_scaled= pd.read_csv(\"../data/collision_xtest_SMOTED.csv\")\n",
    "collision_ytest= pd.read_csv(\"../data/collision_ytest_SMOTED.csv\")"
   ]
  },
  {
   "cell_type": "markdown",
   "id": "75d4b9a6",
   "metadata": {},
   "source": [
    "## Selección de variables Lasso"
   ]
  },
  {
   "cell_type": "markdown",
   "id": "600b8cdc",
   "metadata": {},
   "source": [
    "### Regularizacion Lasso"
   ]
  },
  {
   "cell_type": "markdown",
   "id": "360ffed6",
   "metadata": {},
   "source": [
    "Para eliminar las variables irrelevantes utilizamos la Regularizacion Lasso con la penalizacion L1, para asi limitar el número de variables elegidas por el modelo ya que, sin penalización, el modelo se quedaría con todas aquellas cuyos coeficientes sean distintos de 0."
   ]
  },
  {
   "cell_type": "code",
   "execution_count": null,
   "id": "5e0f610b",
   "metadata": {
    "scrolled": true
   },
   "outputs": [
    {
     "name": "stderr",
     "output_type": "stream",
     "text": [
      "C:\\Users\\pablo\\anaconda3\\envs\\Entorno1\\lib\\site-packages\\sklearn\\utils\\validation.py:985: DataConversionWarning: A column-vector y was passed when a 1d array was expected. Please change the shape of y to (n_samples, ), for example using ravel().\n",
      "  y = column_or_1d(y, warn=True)\n"
     ]
    }
   ],
   "source": [
    "start_l = time.time()\n",
    "\n",
    "sel_lasso = SelectFromModel(LogisticRegression(C=1, penalty='l1', \n",
    "                                          solver='liblinear',random_state = 0),\n",
    "                            threshold = 0.025)\n",
    "sel_lasso = sel_lasso.fit(collision_xtrain_scaled, collision_ytrain)\n",
    "\n",
    "end_l = time.time()\n",
    "\n",
    "print(\"El tiempo de ejecucion para lasso es:\", end_l-start_l)"
   ]
  },
  {
   "cell_type": "markdown",
   "id": "9f365e9e",
   "metadata": {},
   "source": [
    "### Guardamos el Lasso con Pickle"
   ]
  },
  {
   "cell_type": "code",
   "execution_count": null,
   "id": "cbb1b8c7",
   "metadata": {},
   "outputs": [],
   "source": [
    "filename_lasso = '../models/finalized_lasso.sav'\n",
    "pickle.dump(sel_lasso, open(filename_lasso, 'wb'))"
   ]
  },
  {
   "cell_type": "markdown",
   "id": "3a40fc9d",
   "metadata": {},
   "source": [
    "### Cargamos el Lasso con Pickle"
   ]
  },
  {
   "cell_type": "code",
   "execution_count": 3,
   "id": "102a0447",
   "metadata": {},
   "outputs": [],
   "source": [
    "filename_lasso = '../models/finalized_lasso.sav'\n",
    "sel_lasso = pickle.load(open(filename_lasso, 'rb'))"
   ]
  },
  {
   "cell_type": "code",
   "execution_count": 4,
   "id": "ac6a71d6",
   "metadata": {},
   "outputs": [
    {
     "data": {
      "text/plain": [
       "Index(['C_VEHS', 'C_CONF', 'C_RCFG', 'C_WTHR', 'C_RALN', 'C_TRAF', 'V_TYPE',\n",
       "       'P_SEX', 'P_AGE', 'P_PSN', 'P_SAFE', 'C_V_YEARS', 'cos_C_HOUR',\n",
       "       'sin_C_HOUR', 'cos_C_MNTH', 'sin_C_MNTH', 'cos_C_WDAY', 'sin_C_WDAY'],\n",
       "      dtype='object')"
      ]
     },
     "execution_count": 4,
     "metadata": {},
     "output_type": "execute_result"
    }
   ],
   "source": [
    "sel_lasso.get_support()\n",
    "selected_feat_lasso = collision_xtrain_scaled.columns[sel_lasso.get_support()]\n",
    "selected_feat_lasso"
   ]
  },
  {
   "cell_type": "code",
   "execution_count": 5,
   "id": "b4371a95",
   "metadata": {},
   "outputs": [
    {
     "name": "stdout",
     "output_type": "stream",
     "text": [
      "total features: 20\n",
      "selected features: 18\n"
     ]
    }
   ],
   "source": [
    "print('total features: {}'.format((collision_xtrain_scaled.shape[1])))\n",
    "print('selected features: {}'.format(len(selected_feat_lasso)))"
   ]
  },
  {
   "cell_type": "markdown",
   "id": "7eb33e3e",
   "metadata": {},
   "source": [
    "Como vemos, de las posibles 20 columnas que le hemos dado al Lasso, se ha quedado con 18, que son las que utilizaremos a partir de ahora para entrenar a los modelos."
   ]
  },
  {
   "cell_type": "code",
   "execution_count": 6,
   "id": "3046127d",
   "metadata": {},
   "outputs": [
    {
     "data": {
      "image/png": "[encoded data removed]",
      "text/plain": [
       "<Figure size 1152x276.48 with 1 Axes>"
      ]
     },
     "metadata": {
      "needs_background": "light"
     },
     "output_type": "display_data"
    }
   ],
   "source": [
    "# Coeficientes del modelo\n",
    "# ==============================================================================\n",
    "df_coeficientes_lasso = pd.DataFrame(\n",
    "                        {'predictor': collision_xtrain_scaled.columns,\n",
    "                         'coef': sel_lasso.estimator_.coef_.flatten()}\n",
    "                  )\n",
    "\n",
    "fig, ax = plt.subplots(figsize=(16, 3.84))\n",
    "ax.stem(df_coeficientes_lasso.predictor, df_coeficientes_lasso.coef, markerfmt=' ')\n",
    "plt.xticks(rotation=90, ha='right', size=10)\n",
    "ax.set_xlabel('variable')\n",
    "ax.set_ylabel('coeficientes')\n",
    "ax.set_title('Coeficientes del modelo lasso');"
   ]
  },
  {
   "cell_type": "markdown",
   "id": "1114efda",
   "metadata": {},
   "source": [
    "En este gráfico observamos como los coeficientes de las variables son positivas excepto la antiguedad del coche, el seno y coseno de los meses y el seno de los dias que tienen un valor negativo. También podemos ver las dos variables que ha eliminado el lasso por la penalizacion, como son P_USER y C_RSUR, ya que tienen un valor nulo, o prácticamente nulo y no merece la pena incluirlas."
   ]
  },
  {
   "cell_type": "code",
   "execution_count": 7,
   "id": "2e7eac97",
   "metadata": {},
   "outputs": [],
   "source": [
    "collision_xtrain_l = collision_xtrain_scaled[selected_feat_lasso]\n",
    "collision_xtest_l = collision_xtest_scaled[selected_feat_lasso]"
   ]
  },
  {
   "cell_type": "code",
   "execution_count": 8,
   "id": "044b868c",
   "metadata": {},
   "outputs": [],
   "source": [
    "collision_ytest = collision_ytest['C_SEV']"
   ]
  },
  {
   "cell_type": "code",
   "execution_count": null,
   "id": "fc6d2160",
   "metadata": {},
   "outputs": [],
   "source": [
    "collision_xtest_l.to_csv('../data/collision_xtest_l.csv',header=True, index=False)"
   ]
  },
  {
   "cell_type": "code",
   "execution_count": null,
   "id": "fdf7b646",
   "metadata": {},
   "outputs": [],
   "source": [
    "collision_xtrain_l.to_csv('../data/collision_xtrain_l.csv',header=True, index=False)"
   ]
  },
  {
   "cell_type": "markdown",
   "id": "56b397ed",
   "metadata": {},
   "source": [
    "## Modelo GLM"
   ]
  },
  {
   "cell_type": "markdown",
   "id": "c19a5ed0",
   "metadata": {},
   "source": [
    "Los modelos GLM son una flexibilizacion de las regresiones simples cuando los errores de las variables de respuesta no siguen una distribución normal. Lo hace mediante una \"función de enlace\" que permite que la magnitud de la varianza dependa del valor predicho. "
   ]
  },
  {
   "cell_type": "markdown",
   "id": "a0e49961",
   "metadata": {},
   "source": [
    "### Modelos binomiales de respuesta"
   ]
  },
  {
   "cell_type": "code",
   "execution_count": 9,
   "id": "dff1b779",
   "metadata": {},
   "outputs": [
    {
     "name": "stdout",
     "output_type": "stream",
     "text": [
      "El tiempo de ejecucion para GLM es: 42.96939015388489\n"
     ]
    }
   ],
   "source": [
    "start_glm = time.time()\n",
    "\n",
    "glm_binom = sm.GLM(collision_ytrain, collision_xtrain_l, family = sm.families.Binomial())\n",
    "res = glm_binom.fit()\n",
    "\n",
    "end_glm = time.time()\n",
    "\n",
    "print(\"El tiempo de ejecucion para GLM es:\", end_glm-start_glm)"
   ]
  },
  {
   "cell_type": "markdown",
   "id": "d239e54f",
   "metadata": {},
   "source": [
    "### Guardamos GLM con Pickle"
   ]
  },
  {
   "cell_type": "code",
   "execution_count": 10,
   "id": "b7aadb5c",
   "metadata": {},
   "outputs": [],
   "source": [
    "filename_glm = '../models/finalized_glm.sav'\n",
    "pickle.dump(res, open(filename_glm, 'wb'))"
   ]
  },
  {
   "cell_type": "markdown",
   "id": "c220f986",
   "metadata": {},
   "source": [
    "### Cargamos GLM"
   ]
  },
  {
   "cell_type": "code",
   "execution_count": 11,
   "id": "c486c02d",
   "metadata": {},
   "outputs": [],
   "source": [
    "filename_glm = '../models/finalized_glm.sav'\n",
    "res = pickle.load(open(filename_glm, 'rb'))"
   ]
  },
  {
   "cell_type": "markdown",
   "id": "6e059ec7",
   "metadata": {},
   "source": [
    "### Vemos el modelo"
   ]
  },
  {
   "cell_type": "code",
   "execution_count": 12,
   "id": "d82d6397",
   "metadata": {},
   "outputs": [
    {
     "name": "stdout",
     "output_type": "stream",
     "text": [
      "                 Generalized Linear Model Regression Results                  \n",
      "==============================================================================\n",
      "Dep. Variable:                  C_SEV   No. Observations:              3998326\n",
      "Model:                            GLM   Df Residuals:                  3998308\n",
      "Model Family:                Binomial   Df Model:                           17\n",
      "Link Function:                  logit   Scale:                          1.0000\n",
      "Method:                          IRLS   Log-Likelihood:            -2.5973e+06\n",
      "Date:                Sun, 19 Dec 2021   Deviance:                   5.1946e+06\n",
      "Time:                        22:53:16   Pearson chi2:                 4.08e+06\n",
      "No. Iterations:                     7   Pseudo R-squ. (CS):            -0.2446\n",
      "Covariance Type:            nonrobust                                         \n",
      "==============================================================================\n",
      "                 coef    std err          z      P>|z|      [0.025      0.975]\n",
      "------------------------------------------------------------------------------\n",
      "C_VEHS         0.0614      0.001     46.028      0.000       0.059       0.064\n",
      "C_CONF         0.3017      0.001    306.908      0.000       0.300       0.304\n",
      "C_RCFG         0.0313      0.001     24.682      0.000       0.029       0.034\n",
      "C_WTHR         0.0189      0.001     18.348      0.000       0.017       0.021\n",
      "C_RALN         0.0436      0.001     41.166      0.000       0.042       0.046\n",
      "C_TRAF         0.0765      0.001     59.220      0.000       0.074       0.079\n",
      "V_TYPE         0.0851      0.001     87.395      0.000       0.083       0.087\n",
      "P_SEX          0.0555      0.001     51.772      0.000       0.053       0.058\n",
      "P_AGE          0.0950      0.001     93.967      0.000       0.093       0.097\n",
      "P_PSN          0.0329      0.001     31.397      0.000       0.031       0.035\n",
      "P_SAFE         0.1903      0.001    199.837      0.000       0.188       0.192\n",
      "C_V_YEARS     -0.0410      0.001    -38.451      0.000      -0.043      -0.039\n",
      "cos_C_HOUR     0.0592      0.001     55.965      0.000       0.057       0.061\n",
      "sin_C_HOUR     0.0225      0.001     21.150      0.000       0.020       0.025\n",
      "cos_C_MNTH    -0.0356      0.001    -33.506      0.000      -0.038      -0.033\n",
      "sin_C_MNTH    -0.0340      0.001    -32.187      0.000      -0.036      -0.032\n",
      "cos_C_WDAY     0.0258      0.001     24.645      0.000       0.024       0.028\n",
      "sin_C_WDAY    -0.0203      0.001    -19.294      0.000      -0.022      -0.018\n",
      "==============================================================================\n"
     ]
    }
   ],
   "source": [
    "print(res.summary())"
   ]
  },
  {
   "cell_type": "code",
   "execution_count": 13,
   "id": "3d118a96",
   "metadata": {},
   "outputs": [
    {
     "name": "stdout",
     "output_type": "stream",
     "text": [
      "Numero de pruebas: C_SEV    922690\n",
      "dtype: int64\n",
      "Parametros:  C_VEHS        0.061427\n",
      "C_CONF        0.301726\n",
      "C_RCFG        0.031259\n",
      "C_WTHR        0.018930\n",
      "C_RALN        0.043593\n",
      "C_TRAF        0.076485\n",
      "V_TYPE        0.085111\n",
      "P_SEX         0.055480\n",
      "P_AGE         0.095037\n",
      "P_PSN         0.032853\n",
      "P_SAFE        0.190250\n",
      "C_V_YEARS    -0.041045\n",
      "cos_C_HOUR    0.059226\n",
      "sin_C_HOUR    0.022497\n",
      "cos_C_MNTH   -0.035578\n",
      "sin_C_MNTH   -0.034023\n",
      "cos_C_WDAY    0.025825\n",
      "sin_C_WDAY   -0.020339\n",
      "dtype: float64\n",
      "valores-T:  C_VEHS         46.027936\n",
      "C_CONF        306.907670\n",
      "C_RCFG         24.681869\n",
      "C_WTHR         18.348096\n",
      "C_RALN         41.166120\n",
      "C_TRAF         59.220276\n",
      "V_TYPE         87.394944\n",
      "P_SEX          51.771541\n",
      "P_AGE          93.967478\n",
      "P_PSN          31.396867\n",
      "P_SAFE        199.836553\n",
      "C_V_YEARS     -38.451293\n",
      "cos_C_HOUR     55.964971\n",
      "sin_C_HOUR     21.150184\n",
      "cos_C_MNTH    -33.506484\n",
      "sin_C_MNTH    -32.187039\n",
      "cos_C_WDAY     24.645463\n",
      "sin_C_WDAY    -19.293954\n",
      "dtype: float64\n"
     ]
    }
   ],
   "source": [
    "print('Numero de pruebas:', collision_ytrain.sum())\n",
    "print('Parametros: ', res.params)\n",
    "print('valores-T: ', res.tvalues)"
   ]
  },
  {
   "cell_type": "code",
   "execution_count": 14,
   "id": "227e60bb",
   "metadata": {},
   "outputs": [],
   "source": [
    "glm_prediction = res.predict(collision_xtest_l)"
   ]
  },
  {
   "cell_type": "code",
   "execution_count": 15,
   "id": "6de85502",
   "metadata": {},
   "outputs": [
    {
     "data": {
      "text/html": [
       "<div>\n",
       "<style scoped>\n",
       "    .dataframe tbody tr th:only-of-type {\n",
       "        vertical-align: middle;\n",
       "    }\n",
       "\n",
       "    .dataframe tbody tr th {\n",
       "        vertical-align: top;\n",
       "    }\n",
       "\n",
       "    .dataframe thead th {\n",
       "        text-align: right;\n",
       "    }\n",
       "</style>\n",
       "<table border=\"1\" class=\"dataframe\">\n",
       "  <thead>\n",
       "    <tr style=\"text-align: right;\">\n",
       "      <th></th>\n",
       "      <th>Actual</th>\n",
       "      <th>Predicted</th>\n",
       "    </tr>\n",
       "  </thead>\n",
       "  <tbody>\n",
       "    <tr>\n",
       "      <th>0</th>\n",
       "      <td>0</td>\n",
       "      <td>0.450109</td>\n",
       "    </tr>\n",
       "    <tr>\n",
       "      <th>1</th>\n",
       "      <td>0</td>\n",
       "      <td>0.468816</td>\n",
       "    </tr>\n",
       "    <tr>\n",
       "      <th>2</th>\n",
       "      <td>0</td>\n",
       "      <td>0.405438</td>\n",
       "    </tr>\n",
       "    <tr>\n",
       "      <th>3</th>\n",
       "      <td>0</td>\n",
       "      <td>0.404180</td>\n",
       "    </tr>\n",
       "    <tr>\n",
       "      <th>4</th>\n",
       "      <td>0</td>\n",
       "      <td>0.424344</td>\n",
       "    </tr>\n",
       "    <tr>\n",
       "      <th>...</th>\n",
       "      <td>...</td>\n",
       "      <td>...</td>\n",
       "    </tr>\n",
       "    <tr>\n",
       "      <th>1340362</th>\n",
       "      <td>0</td>\n",
       "      <td>0.399391</td>\n",
       "    </tr>\n",
       "    <tr>\n",
       "      <th>1340363</th>\n",
       "      <td>0</td>\n",
       "      <td>0.614794</td>\n",
       "    </tr>\n",
       "    <tr>\n",
       "      <th>1340364</th>\n",
       "      <td>0</td>\n",
       "      <td>0.471505</td>\n",
       "    </tr>\n",
       "    <tr>\n",
       "      <th>1340365</th>\n",
       "      <td>0</td>\n",
       "      <td>0.443494</td>\n",
       "    </tr>\n",
       "    <tr>\n",
       "      <th>1340366</th>\n",
       "      <td>0</td>\n",
       "      <td>0.345984</td>\n",
       "    </tr>\n",
       "  </tbody>\n",
       "</table>\n",
       "<p>1340367 rows × 2 columns</p>\n",
       "</div>"
      ],
      "text/plain": [
       "         Actual  Predicted\n",
       "0             0   0.450109\n",
       "1             0   0.468816\n",
       "2             0   0.405438\n",
       "3             0   0.404180\n",
       "4             0   0.424344\n",
       "...         ...        ...\n",
       "1340362       0   0.399391\n",
       "1340363       0   0.614794\n",
       "1340364       0   0.471505\n",
       "1340365       0   0.443494\n",
       "1340366       0   0.345984\n",
       "\n",
       "[1340367 rows x 2 columns]"
      ]
     },
     "execution_count": 15,
     "metadata": {},
     "output_type": "execute_result"
    }
   ],
   "source": [
    "comparacion_glm = pd.DataFrame({'Actual': collision_ytest, 'Predicted': glm_prediction})\n",
    "comparacion_glm"
   ]
  },
  {
   "cell_type": "code",
   "execution_count": 16,
   "id": "a1119615",
   "metadata": {},
   "outputs": [],
   "source": [
    "clasificacionGLM = np.where(glm_prediction < 0.65,0,1)"
   ]
  },
  {
   "cell_type": "code",
   "execution_count": 17,
   "id": "bff73bcc",
   "metadata": {},
   "outputs": [
    {
     "data": {
      "text/html": [
       "<div>\n",
       "<style scoped>\n",
       "    .dataframe tbody tr th:only-of-type {\n",
       "        vertical-align: middle;\n",
       "    }\n",
       "\n",
       "    .dataframe tbody tr th {\n",
       "        vertical-align: top;\n",
       "    }\n",
       "\n",
       "    .dataframe thead th {\n",
       "        text-align: right;\n",
       "    }\n",
       "</style>\n",
       "<table border=\"1\" class=\"dataframe\">\n",
       "  <thead>\n",
       "    <tr style=\"text-align: right;\">\n",
       "      <th></th>\n",
       "      <th>Actual</th>\n",
       "      <th>Predicted</th>\n",
       "    </tr>\n",
       "  </thead>\n",
       "  <tbody>\n",
       "    <tr>\n",
       "      <th>0</th>\n",
       "      <td>0</td>\n",
       "      <td>0</td>\n",
       "    </tr>\n",
       "    <tr>\n",
       "      <th>1</th>\n",
       "      <td>0</td>\n",
       "      <td>0</td>\n",
       "    </tr>\n",
       "    <tr>\n",
       "      <th>2</th>\n",
       "      <td>0</td>\n",
       "      <td>0</td>\n",
       "    </tr>\n",
       "    <tr>\n",
       "      <th>3</th>\n",
       "      <td>0</td>\n",
       "      <td>0</td>\n",
       "    </tr>\n",
       "    <tr>\n",
       "      <th>4</th>\n",
       "      <td>0</td>\n",
       "      <td>0</td>\n",
       "    </tr>\n",
       "    <tr>\n",
       "      <th>...</th>\n",
       "      <td>...</td>\n",
       "      <td>...</td>\n",
       "    </tr>\n",
       "    <tr>\n",
       "      <th>1340362</th>\n",
       "      <td>0</td>\n",
       "      <td>0</td>\n",
       "    </tr>\n",
       "    <tr>\n",
       "      <th>1340363</th>\n",
       "      <td>0</td>\n",
       "      <td>0</td>\n",
       "    </tr>\n",
       "    <tr>\n",
       "      <th>1340364</th>\n",
       "      <td>0</td>\n",
       "      <td>0</td>\n",
       "    </tr>\n",
       "    <tr>\n",
       "      <th>1340365</th>\n",
       "      <td>0</td>\n",
       "      <td>0</td>\n",
       "    </tr>\n",
       "    <tr>\n",
       "      <th>1340366</th>\n",
       "      <td>0</td>\n",
       "      <td>0</td>\n",
       "    </tr>\n",
       "  </tbody>\n",
       "</table>\n",
       "<p>1340367 rows × 2 columns</p>\n",
       "</div>"
      ],
      "text/plain": [
       "         Actual  Predicted\n",
       "0             0          0\n",
       "1             0          0\n",
       "2             0          0\n",
       "3             0          0\n",
       "4             0          0\n",
       "...         ...        ...\n",
       "1340362       0          0\n",
       "1340363       0          0\n",
       "1340364       0          0\n",
       "1340365       0          0\n",
       "1340366       0          0\n",
       "\n",
       "[1340367 rows x 2 columns]"
      ]
     },
     "execution_count": 17,
     "metadata": {},
     "output_type": "execute_result"
    }
   ],
   "source": [
    "comparacion_glm = pd.DataFrame({'Actual': collision_ytest, 'Predicted': clasificacionGLM})\n",
    "comparacion_glm"
   ]
  },
  {
   "cell_type": "code",
   "execution_count": 18,
   "id": "2a270a7b",
   "metadata": {},
   "outputs": [
    {
     "name": "stdout",
     "output_type": "stream",
     "text": [
      "Mean Absolute Error: 0.4912531709323746\n",
      "Mean Squared Error: 0.2533644345913956\n",
      "Root Mean Squared Error: 0.5033531907035016\n"
     ]
    }
   ],
   "source": [
    "print('Mean Absolute Error:', metrics.mean_absolute_error(collision_ytest, glm_prediction))\n",
    "print('Mean Squared Error:', metrics.mean_squared_error(collision_ytest, glm_prediction))\n",
    "print('Root Mean Squared Error:', np.sqrt(metrics.mean_squared_error(collision_ytest, glm_prediction)))"
   ]
  },
  {
   "cell_type": "code",
   "execution_count": 19,
   "id": "f57cfdb2",
   "metadata": {
    "scrolled": true
   },
   "outputs": [
    {
     "name": "stdout",
     "output_type": "stream",
     "text": [
      "AUC: 0.820\n"
     ]
    }
   ],
   "source": [
    "auc = metrics.roc_auc_score(collision_ytest, glm_prediction)\n",
    "print('AUC: %.3f' % auc)"
   ]
  },
  {
   "cell_type": "code",
   "execution_count": 20,
   "id": "62752496",
   "metadata": {
    "scrolled": true
   },
   "outputs": [
    {
     "data": {
      "image/png": "[encoded data removed]",
      "text/plain": [
       "<Figure size 432x288 with 1 Axes>"
      ]
     },
     "metadata": {
      "needs_background": "light"
     },
     "output_type": "display_data"
    }
   ],
   "source": [
    "# calculate roc curves\n",
    "fpr, tpr, thresholds = roc_curve(collision_ytest, glm_prediction)\n",
    "# plot the roc curve for the model\n",
    "plt.plot([0,1], [0,1], linestyle='--', label='No Skill')\n",
    "plt.plot(fpr, tpr, marker='.', label='GLM')\n",
    "# axis labels\n",
    "plt.xlabel('False Positive Rate')\n",
    "plt.ylabel('True Positive Rate')\n",
    "plt.legend()\n",
    "# show the plot\n",
    "plt.show()"
   ]
  },
  {
   "cell_type": "code",
   "execution_count": 21,
   "id": "387d85a0",
   "metadata": {},
   "outputs": [
    {
     "data": {
      "text/plain": [
       "Text(0.5, 1.0, 'Normalized confusion matrix')"
      ]
     },
     "execution_count": 21,
     "metadata": {},
     "output_type": "execute_result"
    },
    {
     "data": {
      "image/png": "[encoded data removed]",
      "text/plain": [
       "<Figure size 504x504 with 2 Axes>"
      ]
     },
     "metadata": {
      "needs_background": "light"
     },
     "output_type": "display_data"
    },
    {
     "data": {
      "image/png": "[encoded data removed]",
      "text/plain": [
       "<Figure size 504x504 with 2 Axes>"
      ]
     },
     "metadata": {
      "needs_background": "light"
     },
     "output_type": "display_data"
    }
   ],
   "source": [
    "cm_gbt_gml= confusion_matrix(collision_ytest, clasificacionGLM)\n",
    "cm_gbt_norm_gml = confusion_matrix(collision_ytest, clasificacionGLM, normalize=\"true\")\n",
    "\n",
    "plt.figure(figsize=(7,7))\n",
    "sns.heatmap(cm_gbt_gml, annot=True, fmt=\".3f\", linewidths=1, square = True, cmap = 'Blues_r');\n",
    "plt.ylabel('Actual label');\n",
    "plt.xlabel('Predicted label');\n",
    "plt.title(\"Confusion matrix\")\n",
    "\n",
    "plt.figure(figsize=(7,7))\n",
    "sns.heatmap(cm_gbt_norm_gml, annot=True, fmt=\".3f\", linewidths=1, square = True, cmap = 'Blues_r');\n",
    "plt.ylabel('Actual label');\n",
    "plt.xlabel('Predicted label');\n",
    "plt.title(\"Normalized confusion matrix\")"
   ]
  },
  {
   "cell_type": "code",
   "execution_count": 22,
   "id": "41e58821",
   "metadata": {},
   "outputs": [
    {
     "name": "stdout",
     "output_type": "stream",
     "text": [
      "Classification Report\n",
      "              precision    recall  f1-score   support\n",
      "\n",
      "           0       0.99      0.91      0.95   1318352\n",
      "           1       0.09      0.50      0.15     22015\n",
      "\n",
      "    accuracy                           0.90   1340367\n",
      "   macro avg       0.54      0.70      0.55   1340367\n",
      "weighted avg       0.98      0.90      0.94   1340367\n",
      "\n"
     ]
    }
   ],
   "source": [
    "print(\"Classification Report\")\n",
    "print(classification_report(collision_ytest, clasificacionGLM))"
   ]
  },
  {
   "cell_type": "code",
   "execution_count": 23,
   "id": "8afd5247",
   "metadata": {},
   "outputs": [
    {
     "data": {
      "text/plain": [
       "0.1463228603543328"
      ]
     },
     "execution_count": 23,
     "metadata": {},
     "output_type": "execute_result"
    }
   ],
   "source": [
    "score = f1_score(collision_ytest, clasificacionGLM)\n",
    "score"
   ]
  },
  {
   "cell_type": "markdown",
   "id": "36debdc2",
   "metadata": {},
   "source": [
    "### Conclusiones GLM"
   ]
  },
  {
   "cell_type": "markdown",
   "id": "28870d17",
   "metadata": {},
   "source": [
    "En primer lugar nos da un AUC de 0.82, lo que nos indica que el GLM ha clasificado correctamente el 82% de los datos, algo que observamos tambien con la matriz de confusion normalizada, en la cual se observa como acierta más en los casos de muerte que en los de no muerte. Respecto a la curva ROC, lo que nos muestra es la relación entre la tasa de verdaderos positivos y la tasa de falsos positivos del modelo y se observa como el modelo. El F1 score relaciona tanto la exhaustividad como la precision en un solo valor que en este caso es de 14.6%, lo que es debido en este caso a una baja precision en los unos, posiblemente por lo desbalanceado que está el dataset incluso despues del oversampling"
   ]
  },
  {
   "cell_type": "markdown",
   "id": "ffb51806",
   "metadata": {},
   "source": [
    "## Support Vector Machine"
   ]
  },
  {
   "cell_type": "markdown",
   "id": "2f3cb702",
   "metadata": {},
   "source": [
    "Respecto al modelo SVC, primero hay que indicar que hemos utilizado la versión lineal ya que hemos leido que para el aprendizaje de dos clases era suficiente. Además de esto la versión radial del modelo necesitaba demasiada capacidad de computación y los resultados eran peores."
   ]
  },
  {
   "cell_type": "code",
   "execution_count": 24,
   "id": "8202a732",
   "metadata": {
    "scrolled": true
   },
   "outputs": [
    {
     "name": "stderr",
     "output_type": "stream",
     "text": [
      "C:\\Users\\pablo\\anaconda3\\envs\\Entorno1\\lib\\site-packages\\sklearn\\utils\\validation.py:985: DataConversionWarning: A column-vector y was passed when a 1d array was expected. Please change the shape of y to (n_samples, ), for example using ravel().\n",
      "  y = column_or_1d(y, warn=True)\n"
     ]
    },
    {
     "name": "stdout",
     "output_type": "stream",
     "text": [
      "El tiempo de ejecucion para SVC es: 24.041119813919067\n"
     ]
    }
   ],
   "source": [
    "start_svc = time.time()\n",
    "\n",
    "clf = SGDClassifier(random_state=2021, loss = 'log')\n",
    "clf = clf.fit(collision_xtrain_l, collision_ytrain)\n",
    "\n",
    "end_svc = time.time()\n",
    "\n",
    "print(\"El tiempo de ejecucion para SVC es:\", end_svc-start_svc)"
   ]
  },
  {
   "cell_type": "markdown",
   "id": "838ecae7",
   "metadata": {},
   "source": [
    "### Guardamos SVC con Pickle"
   ]
  },
  {
   "cell_type": "code",
   "execution_count": 25,
   "id": "76ca1aa5",
   "metadata": {},
   "outputs": [],
   "source": [
    "filename_svc = '../models/finalized_svc.sav'\n",
    "pickle.dump(clf, open(filename_svc, 'wb'))"
   ]
  },
  {
   "cell_type": "markdown",
   "id": "5b62d61a",
   "metadata": {},
   "source": [
    "### Cargamos SVC con Pickle"
   ]
  },
  {
   "cell_type": "code",
   "execution_count": 26,
   "id": "f3bd9b18",
   "metadata": {},
   "outputs": [],
   "source": [
    "filename_svc = '../models/finalized_svc.sav'\n",
    "clf = pickle.load(open(filename_svc, 'rb'))"
   ]
  },
  {
   "cell_type": "markdown",
   "id": "80f3355d",
   "metadata": {},
   "source": [
    "### Vemos el modelo"
   ]
  },
  {
   "cell_type": "code",
   "execution_count": 27,
   "id": "78f1efe1",
   "metadata": {},
   "outputs": [],
   "source": [
    "SVC_prediction = clf.predict(collision_xtest_l)"
   ]
  },
  {
   "cell_type": "code",
   "execution_count": 28,
   "id": "20f1e186",
   "metadata": {},
   "outputs": [],
   "source": [
    "SVC_prob_predictions = clf.predict_proba(collision_xtest_l)"
   ]
  },
  {
   "cell_type": "code",
   "execution_count": 29,
   "id": "a9fd7acb",
   "metadata": {},
   "outputs": [],
   "source": [
    "clasificacion_svc = np.where(SVC_prediction < 0.65,0,1)"
   ]
  },
  {
   "cell_type": "code",
   "execution_count": 30,
   "id": "834fb92c",
   "metadata": {
    "scrolled": false
   },
   "outputs": [
    {
     "data": {
      "text/html": [
       "<div>\n",
       "<style scoped>\n",
       "    .dataframe tbody tr th:only-of-type {\n",
       "        vertical-align: middle;\n",
       "    }\n",
       "\n",
       "    .dataframe tbody tr th {\n",
       "        vertical-align: top;\n",
       "    }\n",
       "\n",
       "    .dataframe thead th {\n",
       "        text-align: right;\n",
       "    }\n",
       "</style>\n",
       "<table border=\"1\" class=\"dataframe\">\n",
       "  <thead>\n",
       "    <tr style=\"text-align: right;\">\n",
       "      <th></th>\n",
       "      <th>Actual</th>\n",
       "      <th>Predicted</th>\n",
       "    </tr>\n",
       "  </thead>\n",
       "  <tbody>\n",
       "    <tr>\n",
       "      <th>0</th>\n",
       "      <td>0</td>\n",
       "      <td>0</td>\n",
       "    </tr>\n",
       "    <tr>\n",
       "      <th>1</th>\n",
       "      <td>0</td>\n",
       "      <td>0</td>\n",
       "    </tr>\n",
       "    <tr>\n",
       "      <th>2</th>\n",
       "      <td>0</td>\n",
       "      <td>0</td>\n",
       "    </tr>\n",
       "    <tr>\n",
       "      <th>3</th>\n",
       "      <td>0</td>\n",
       "      <td>0</td>\n",
       "    </tr>\n",
       "    <tr>\n",
       "      <th>4</th>\n",
       "      <td>0</td>\n",
       "      <td>0</td>\n",
       "    </tr>\n",
       "    <tr>\n",
       "      <th>...</th>\n",
       "      <td>...</td>\n",
       "      <td>...</td>\n",
       "    </tr>\n",
       "    <tr>\n",
       "      <th>1340362</th>\n",
       "      <td>0</td>\n",
       "      <td>0</td>\n",
       "    </tr>\n",
       "    <tr>\n",
       "      <th>1340363</th>\n",
       "      <td>0</td>\n",
       "      <td>0</td>\n",
       "    </tr>\n",
       "    <tr>\n",
       "      <th>1340364</th>\n",
       "      <td>0</td>\n",
       "      <td>0</td>\n",
       "    </tr>\n",
       "    <tr>\n",
       "      <th>1340365</th>\n",
       "      <td>0</td>\n",
       "      <td>0</td>\n",
       "    </tr>\n",
       "    <tr>\n",
       "      <th>1340366</th>\n",
       "      <td>0</td>\n",
       "      <td>0</td>\n",
       "    </tr>\n",
       "  </tbody>\n",
       "</table>\n",
       "<p>1340367 rows × 2 columns</p>\n",
       "</div>"
      ],
      "text/plain": [
       "         Actual  Predicted\n",
       "0             0          0\n",
       "1             0          0\n",
       "2             0          0\n",
       "3             0          0\n",
       "4             0          0\n",
       "...         ...        ...\n",
       "1340362       0          0\n",
       "1340363       0          0\n",
       "1340364       0          0\n",
       "1340365       0          0\n",
       "1340366       0          0\n",
       "\n",
       "[1340367 rows x 2 columns]"
      ]
     },
     "execution_count": 30,
     "metadata": {},
     "output_type": "execute_result"
    }
   ],
   "source": [
    "comparacion_svc = pd.DataFrame({'Actual': collision_ytest, 'Predicted': clasificacion_svc})\n",
    "comparacion_svc"
   ]
  },
  {
   "cell_type": "code",
   "execution_count": 31,
   "id": "127b9eaf",
   "metadata": {},
   "outputs": [
    {
     "name": "stdout",
     "output_type": "stream",
     "text": [
      "Mean Absolute Error: 0.06454799319887762\n",
      "Mean Squared Error: 0.06454799319887762\n",
      "Root Mean Squared Error: 0.254062970932164\n"
     ]
    }
   ],
   "source": [
    "print('Mean Absolute Error:', metrics.mean_absolute_error(collision_ytest, SVC_prediction))\n",
    "print('Mean Squared Error:', metrics.mean_squared_error(collision_ytest, SVC_prediction))\n",
    "print('Root Mean Squared Error:', np.sqrt(metrics.mean_squared_error(collision_ytest, SVC_prediction)))"
   ]
  },
  {
   "cell_type": "code",
   "execution_count": 32,
   "id": "c99d9798",
   "metadata": {},
   "outputs": [
    {
     "name": "stdout",
     "output_type": "stream",
     "text": [
      "AUC: 0.683\n"
     ]
    }
   ],
   "source": [
    "auc = metrics.roc_auc_score(collision_ytest, SVC_prediction)\n",
    "print('AUC: %.3f' % auc)"
   ]
  },
  {
   "cell_type": "code",
   "execution_count": 33,
   "id": "ff6efbea",
   "metadata": {},
   "outputs": [
    {
     "data": {
      "image/png": "[encoded data removed]",
      "text/plain": [
       "<Figure size 432x288 with 1 Axes>"
      ]
     },
     "metadata": {
      "needs_background": "light"
     },
     "output_type": "display_data"
    }
   ],
   "source": [
    "# keep probabilities for the positive outcome only\n",
    "yhat_svc = SVC_prob_predictions[:, 1]\n",
    "# calculate roc curves\n",
    "fpr, tpr, thresholds = roc_curve(collision_ytest, yhat_svc)\n",
    "# plot the roc curve for the model\n",
    "plt.plot([0,1], [0,1], linestyle='--', label='No Skill')\n",
    "plt.plot(fpr, tpr, marker='.', label='SVC')\n",
    "# axis labels\n",
    "plt.xlabel('False Positive Rate')\n",
    "plt.ylabel('True Positive Rate')\n",
    "plt.legend()\n",
    "# show the plot\n",
    "plt.show()"
   ]
  },
  {
   "cell_type": "code",
   "execution_count": 34,
   "id": "4a0ff351",
   "metadata": {},
   "outputs": [
    {
     "data": {
      "text/plain": [
       "Text(0.5, 1.0, 'Normalized confusion matrix')"
      ]
     },
     "execution_count": 34,
     "metadata": {},
     "output_type": "execute_result"
    },
    {
     "data": {
      "image/png": "[encoded data removed]",
      "text/plain": [
       "<Figure size 504x504 with 2 Axes>"
      ]
     },
     "metadata": {
      "needs_background": "light"
     },
     "output_type": "display_data"
    },
    {
     "data": {
      "image/png": "[encoded data removed]",
      "text/plain": [
       "<Figure size 504x504 with 2 Axes>"
      ]
     },
     "metadata": {
      "needs_background": "light"
     },
     "output_type": "display_data"
    }
   ],
   "source": [
    "cm_gbt_gml= confusion_matrix(collision_ytest, SVC_prediction)\n",
    "cm_gbt_norm_gml = confusion_matrix(collision_ytest, SVC_prediction, normalize=\"true\")\n",
    "\n",
    "plt.figure(figsize=(7,7))\n",
    "sns.heatmap(cm_gbt_gml, annot=True, fmt=\".3f\", linewidths=1, square = True, cmap = 'Blues_r');\n",
    "plt.ylabel('Actual label');\n",
    "plt.xlabel('Predicted label');\n",
    "plt.title(\"Confusion matrix\")\n",
    "\n",
    "plt.figure(figsize=(7,7))\n",
    "sns.heatmap(cm_gbt_norm_gml, annot=True, fmt=\".3f\", linewidths=1, square = True, cmap = 'Blues_r');\n",
    "plt.ylabel('Actual label');\n",
    "plt.xlabel('Predicted label');\n",
    "plt.title(\"Normalized confusion matrix\")"
   ]
  },
  {
   "cell_type": "code",
   "execution_count": 35,
   "id": "3bfd4121",
   "metadata": {},
   "outputs": [
    {
     "name": "stdout",
     "output_type": "stream",
     "text": [
      "Classification Report\n",
      "              precision    recall  f1-score   support\n",
      "\n",
      "           0       0.99      0.94      0.97   1318352\n",
      "           1       0.11      0.42      0.18     22015\n",
      "\n",
      "    accuracy                           0.94   1340367\n",
      "   macro avg       0.55      0.68      0.57   1340367\n",
      "weighted avg       0.98      0.94      0.95   1340367\n",
      "\n"
     ]
    }
   ],
   "source": [
    "print(\"Classification Report\")\n",
    "print(classification_report(collision_ytest, clasificacion_svc))"
   ]
  },
  {
   "cell_type": "code",
   "execution_count": 36,
   "id": "18744641",
   "metadata": {},
   "outputs": [
    {
     "data": {
      "text/plain": [
       "0.17680304471931493"
      ]
     },
     "execution_count": 36,
     "metadata": {},
     "output_type": "execute_result"
    }
   ],
   "source": [
    "score = f1_score(collision_ytest, clasificacion_svc)\n",
    "score"
   ]
  },
  {
   "cell_type": "markdown",
   "id": "bc5b81c7",
   "metadata": {},
   "source": [
    "### Conclusiones SVC"
   ]
  },
  {
   "cell_type": "markdown",
   "id": "38984f39",
   "metadata": {},
   "source": [
    "En el caso del SVC, el AUC es menor con un valor de 0,68  y de nuevo ocurre lo mismo que en el caso del GLM, en el que la F1 score se ve afectada por la baja precisión en los unos, lo que nos lleva a una F1 del 17.68%. Tambien decir que el recall en el caso de los unos es inferior al modelo GLM, lo que nos ha llevado a no elegirlo como modelo para correr los hiperparámetros."
   ]
  },
  {
   "cell_type": "markdown",
   "id": "8d4ef0f8",
   "metadata": {},
   "source": [
    "## Random Forest"
   ]
  },
  {
   "cell_type": "markdown",
   "id": "1a3d4d6d",
   "metadata": {},
   "source": [
    "Un Random Forest es un conjunto de árboles de decisión combinados con bagging, lo que lleva a que cada árbol se entrene con distintas muestras de los datos para resolver el mismo problema. De este modo los errores de los distintos árboles se van compensando con otros y por tanto los resultados generalizan mejor."
   ]
  },
  {
   "cell_type": "code",
   "execution_count": null,
   "id": "bd3c90ae",
   "metadata": {
    "scrolled": true
   },
   "outputs": [],
   "source": [
    "start_rf = time.time()\n",
    "\n",
    "modelo = RandomForestClassifier(random_state=20)\n",
    "\n",
    "modelo = modelo.fit(collision_xtrain_l, collision_ytrain)\n",
    "\n",
    "end_rf = time.time()\n",
    "\n",
    "print(\"El tiempo de ejecucion para RF es:\", end_rf-start_rf)"
   ]
  },
  {
   "cell_type": "markdown",
   "id": "8b85de68",
   "metadata": {},
   "source": [
    "### Guardamos RF con Pickle"
   ]
  },
  {
   "cell_type": "code",
   "execution_count": null,
   "id": "664fffae",
   "metadata": {},
   "outputs": [],
   "source": [
    "filename_rf = '../models/finalized_rf.sav'\n",
    "pickle.dump(modelo, open(filename_rf, 'wb'))"
   ]
  },
  {
   "cell_type": "markdown",
   "id": "b07f032c",
   "metadata": {},
   "source": [
    "### Cargamos RF con Pickle"
   ]
  },
  {
   "cell_type": "code",
   "execution_count": 37,
   "id": "b294e355",
   "metadata": {},
   "outputs": [],
   "source": [
    "filename_rf = '../models/finalized_rf.sav'\n",
    "modelo = pickle.load(open(filename_rf, 'rb'))"
   ]
  },
  {
   "cell_type": "markdown",
   "id": "6c866083",
   "metadata": {},
   "source": [
    "### Vemos el modelo"
   ]
  },
  {
   "cell_type": "code",
   "execution_count": 38,
   "id": "a5b5eb78",
   "metadata": {},
   "outputs": [],
   "source": [
    "RF_prediction = modelo.predict(collision_xtest_l)"
   ]
  },
  {
   "cell_type": "code",
   "execution_count": 39,
   "id": "caa5f1c9",
   "metadata": {},
   "outputs": [],
   "source": [
    "RF_prob_predictions = modelo.predict_proba(collision_xtest_l)"
   ]
  },
  {
   "cell_type": "code",
   "execution_count": 40,
   "id": "b130585f",
   "metadata": {
    "scrolled": false
   },
   "outputs": [
    {
     "data": {
      "text/html": [
       "<div>\n",
       "<style scoped>\n",
       "    .dataframe tbody tr th:only-of-type {\n",
       "        vertical-align: middle;\n",
       "    }\n",
       "\n",
       "    .dataframe tbody tr th {\n",
       "        vertical-align: top;\n",
       "    }\n",
       "\n",
       "    .dataframe thead th {\n",
       "        text-align: right;\n",
       "    }\n",
       "</style>\n",
       "<table border=\"1\" class=\"dataframe\">\n",
       "  <thead>\n",
       "    <tr style=\"text-align: right;\">\n",
       "      <th></th>\n",
       "      <th>Actual</th>\n",
       "      <th>Predicted</th>\n",
       "    </tr>\n",
       "  </thead>\n",
       "  <tbody>\n",
       "    <tr>\n",
       "      <th>0</th>\n",
       "      <td>0</td>\n",
       "      <td>0</td>\n",
       "    </tr>\n",
       "    <tr>\n",
       "      <th>1</th>\n",
       "      <td>0</td>\n",
       "      <td>0</td>\n",
       "    </tr>\n",
       "    <tr>\n",
       "      <th>2</th>\n",
       "      <td>0</td>\n",
       "      <td>0</td>\n",
       "    </tr>\n",
       "    <tr>\n",
       "      <th>3</th>\n",
       "      <td>0</td>\n",
       "      <td>0</td>\n",
       "    </tr>\n",
       "    <tr>\n",
       "      <th>4</th>\n",
       "      <td>0</td>\n",
       "      <td>0</td>\n",
       "    </tr>\n",
       "    <tr>\n",
       "      <th>...</th>\n",
       "      <td>...</td>\n",
       "      <td>...</td>\n",
       "    </tr>\n",
       "    <tr>\n",
       "      <th>1340362</th>\n",
       "      <td>0</td>\n",
       "      <td>0</td>\n",
       "    </tr>\n",
       "    <tr>\n",
       "      <th>1340363</th>\n",
       "      <td>0</td>\n",
       "      <td>0</td>\n",
       "    </tr>\n",
       "    <tr>\n",
       "      <th>1340364</th>\n",
       "      <td>0</td>\n",
       "      <td>0</td>\n",
       "    </tr>\n",
       "    <tr>\n",
       "      <th>1340365</th>\n",
       "      <td>0</td>\n",
       "      <td>0</td>\n",
       "    </tr>\n",
       "    <tr>\n",
       "      <th>1340366</th>\n",
       "      <td>0</td>\n",
       "      <td>0</td>\n",
       "    </tr>\n",
       "  </tbody>\n",
       "</table>\n",
       "<p>1340367 rows × 2 columns</p>\n",
       "</div>"
      ],
      "text/plain": [
       "         Actual  Predicted\n",
       "0             0          0\n",
       "1             0          0\n",
       "2             0          0\n",
       "3             0          0\n",
       "4             0          0\n",
       "...         ...        ...\n",
       "1340362       0          0\n",
       "1340363       0          0\n",
       "1340364       0          0\n",
       "1340365       0          0\n",
       "1340366       0          0\n",
       "\n",
       "[1340367 rows x 2 columns]"
      ]
     },
     "execution_count": 40,
     "metadata": {},
     "output_type": "execute_result"
    }
   ],
   "source": [
    "comparacion_rf = pd.DataFrame({'Actual': collision_ytest, 'Predicted': RF_prediction})\n",
    "comparacion_rf"
   ]
  },
  {
   "cell_type": "code",
   "execution_count": 41,
   "id": "8ed73c07",
   "metadata": {},
   "outputs": [
    {
     "name": "stdout",
     "output_type": "stream",
     "text": [
      "Mean Absolute Error: 0.01476983542567073\n",
      "Mean Squared Error: 0.01476983542567073\n",
      "Root Mean Squared Error: 0.12153121173456113\n"
     ]
    }
   ],
   "source": [
    "print('Mean Absolute Error:', metrics.mean_absolute_error(collision_ytest, RF_prediction))\n",
    "print('Mean Squared Error:', metrics.mean_squared_error(collision_ytest, RF_prediction))\n",
    "print('Root Mean Squared Error:', np.sqrt(metrics.mean_squared_error(collision_ytest, RF_prediction)))"
   ]
  },
  {
   "cell_type": "code",
   "execution_count": 42,
   "id": "e8e43928",
   "metadata": {},
   "outputs": [
    {
     "name": "stdout",
     "output_type": "stream",
     "text": [
      "AUC: 0.566\n"
     ]
    }
   ],
   "source": [
    "auc = metrics.roc_auc_score(collision_ytest, RF_prediction)\n",
    "print('AUC: %.3f' % auc)"
   ]
  },
  {
   "cell_type": "code",
   "execution_count": 43,
   "id": "cc85e2a0",
   "metadata": {},
   "outputs": [
    {
     "data": {
      "image/png": "[encoded data removed]",
      "text/plain": [
       "<Figure size 432x288 with 1 Axes>"
      ]
     },
     "metadata": {
      "needs_background": "light"
     },
     "output_type": "display_data"
    }
   ],
   "source": [
    "# keep probabilities for the positive outcome only\n",
    "RF_yhat = RF_prob_predictions[:, 1]\n",
    "# calculate roc curves\n",
    "fpr, tpr, thresholds = roc_curve(collision_ytest, RF_yhat)\n",
    "# plot the roc curve for the model\n",
    "plt.plot([0,1], [0,1], linestyle='--', label='No Skill')\n",
    "plt.plot(fpr, tpr, marker='.', label='Random Forest')\n",
    "# axis labels\n",
    "plt.xlabel('False Positive Rate')\n",
    "plt.ylabel('True Positive Rate')\n",
    "plt.legend()\n",
    "# show the plot\n",
    "plt.show()"
   ]
  },
  {
   "cell_type": "code",
   "execution_count": 44,
   "id": "98b79852",
   "metadata": {},
   "outputs": [
    {
     "data": {
      "text/plain": [
       "Text(0.5, 1.0, 'Normalized confusion matrix')"
      ]
     },
     "execution_count": 44,
     "metadata": {},
     "output_type": "execute_result"
    },
    {
     "data": {
      "image/png": "[encoded data removed]",
      "text/plain": [
       "<Figure size 504x504 with 2 Axes>"
      ]
     },
     "metadata": {
      "needs_background": "light"
     },
     "output_type": "display_data"
    },
    {
     "data": {
      "image/png": "[encoded data removed]",
      "text/plain": [
       "<Figure size 504x504 with 2 Axes>"
      ]
     },
     "metadata": {
      "needs_background": "light"
     },
     "output_type": "display_data"
    }
   ],
   "source": [
    "cm_gbt_rf= confusion_matrix(collision_ytest, RF_prediction)\n",
    "cm_gbt_norm_rf = confusion_matrix(collision_ytest, RF_prediction, normalize=\"true\")\n",
    "\n",
    "plt.figure(figsize=(7,7))\n",
    "sns.heatmap(cm_gbt_rf, annot=True, fmt=\".3f\", linewidths=1, square = True, cmap = 'Blues_r');\n",
    "plt.ylabel('Actual label');\n",
    "plt.xlabel('Predicted label');\n",
    "plt.title(\"Confusion matrix\")\n",
    "\n",
    "plt.figure(figsize=(7,7))\n",
    "sns.heatmap(cm_gbt_norm_rf, annot=True, fmt=\".3f\", linewidths=1, square = True, cmap = 'Blues_r');\n",
    "plt.ylabel('Actual label');\n",
    "plt.xlabel('Predicted label');\n",
    "plt.title(\"Normalized confusion matrix\")"
   ]
  },
  {
   "cell_type": "code",
   "execution_count": 45,
   "id": "2955b004",
   "metadata": {},
   "outputs": [
    {
     "name": "stdout",
     "output_type": "stream",
     "text": [
      "Classification Report\n",
      "              precision    recall  f1-score   support\n",
      "\n",
      "           0       0.99      1.00      0.99   1318352\n",
      "           1       0.81      0.13      0.23     22015\n",
      "\n",
      "    accuracy                           0.99   1340367\n",
      "   macro avg       0.90      0.57      0.61   1340367\n",
      "weighted avg       0.98      0.99      0.98   1340367\n",
      "\n"
     ]
    }
   ],
   "source": [
    "print(\"Classification Report\")\n",
    "print(classification_report(collision_ytest, RF_prediction))"
   ]
  },
  {
   "cell_type": "code",
   "execution_count": 46,
   "id": "b4ef18d3",
   "metadata": {},
   "outputs": [
    {
     "data": {
      "text/plain": [
       "0.22779576393493775"
      ]
     },
     "execution_count": 46,
     "metadata": {},
     "output_type": "execute_result"
    }
   ],
   "source": [
    "score = f1_score(collision_ytest, RF_prediction)\n",
    "score"
   ]
  },
  {
   "cell_type": "markdown",
   "id": "fbd1136a",
   "metadata": {},
   "source": [
    "### Conclusiones Random Forest"
   ]
  },
  {
   "cell_type": "markdown",
   "id": "8087e67c",
   "metadata": {},
   "source": [
    "El Random Forest nos lleva a un AUC de 0.566 que es inferior a los modelos anteriores pero, si vemos la precision tanto de los unos como de los ceros, es muy superior al resto. Cabe destacar que en este caso es el recall de los unos los que afectan al F1 score para que finalmente sea del 22.78%. En este problema en concreto que es entrenar un modelo que nos dice si una persona muere o no muere en accidentes de tráfico, creemos que el buen resultado de la precisión es definitivo para elegir, de momento, este modelo para los hiperparámetros"
   ]
  },
  {
   "cell_type": "markdown",
   "id": "ad99a5fc",
   "metadata": {},
   "source": [
    "## XGBOOST"
   ]
  },
  {
   "cell_type": "code",
   "execution_count": null,
   "id": "7d9041fc",
   "metadata": {
    "scrolled": true
   },
   "outputs": [],
   "source": [
    "start_xgb = time.time()\n",
    "\n",
    "clf_xgb = xgb.XGBClassifier(random_state=2021)\n",
    "clf_xgb = clf_xgb.fit(collision_xtrain_l,collision_ytrain)\n",
    "\n",
    "end_xgb = time.time()\n",
    "\n",
    "print(\"El tiempo de ejecucion para XGB es:\", end_xgb-start_xgb)"
   ]
  },
  {
   "cell_type": "markdown",
   "id": "b56f2e7c",
   "metadata": {},
   "source": [
    "### Guardamos XGB con Pickle"
   ]
  },
  {
   "cell_type": "code",
   "execution_count": null,
   "id": "646a646f",
   "metadata": {},
   "outputs": [],
   "source": [
    "filename_xgb = '../models/finalized_xgb.sav'\n",
    "pickle.dump(clf_xgb, open(filename_xgb, 'wb'))"
   ]
  },
  {
   "cell_type": "markdown",
   "id": "35906d12",
   "metadata": {},
   "source": [
    "### Cargamos XGB con Pickle"
   ]
  },
  {
   "cell_type": "code",
   "execution_count": 47,
   "id": "66e01cbc",
   "metadata": {},
   "outputs": [],
   "source": [
    "filename_xgb = '../models/finalized_xgb.sav'\n",
    "clf_xgb = pickle.load(open(filename_xgb, 'rb'))"
   ]
  },
  {
   "cell_type": "markdown",
   "id": "75d26697",
   "metadata": {},
   "source": [
    "### Vemos el modelo"
   ]
  },
  {
   "cell_type": "code",
   "execution_count": 48,
   "id": "f070ebcb",
   "metadata": {},
   "outputs": [],
   "source": [
    "preds_xgb= clf_xgb.predict(collision_xtest_l)"
   ]
  },
  {
   "cell_type": "code",
   "execution_count": 49,
   "id": "8694f29b",
   "metadata": {},
   "outputs": [],
   "source": [
    "XGB_prob_predictions = clf_xgb.predict_proba(collision_xtest_l)"
   ]
  },
  {
   "cell_type": "code",
   "execution_count": 50,
   "id": "55b4a66f",
   "metadata": {},
   "outputs": [
    {
     "name": "stdout",
     "output_type": "stream",
     "text": [
      "0.983796228943267\n"
     ]
    }
   ],
   "source": [
    "accuracy_xgb = float(np.sum(preds_xgb == collision_ytest))/collision_ytest.shape[0]\n",
    "print(accuracy_xgb)"
   ]
  },
  {
   "cell_type": "code",
   "execution_count": 51,
   "id": "86786eb1",
   "metadata": {},
   "outputs": [
    {
     "data": {
      "image/png": "[encoded data removed]",
      "text/plain": [
       "<Figure size 432x288 with 1 Axes>"
      ]
     },
     "metadata": {
      "needs_background": "light"
     },
     "output_type": "display_data"
    }
   ],
   "source": [
    "# keep probabilities for the positive outcome only\n",
    "XGB_yhat = XGB_prob_predictions[:, 1]\n",
    "# calculate roc curves\n",
    "fpr, tpr, thresholds = roc_curve(collision_ytest, XGB_yhat)\n",
    "# plot the roc curve for the model\n",
    "plt.plot([0,1], [0,1], linestyle='--', label='No Skill')\n",
    "plt.plot(fpr, tpr, marker='.', label='XGBoost')\n",
    "# axis labels\n",
    "plt.xlabel('False Positive Rate')\n",
    "plt.ylabel('True Positive Rate')\n",
    "plt.legend()\n",
    "# show the plot\n",
    "plt.show()"
   ]
  },
  {
   "cell_type": "code",
   "execution_count": 52,
   "id": "8b8da6fa",
   "metadata": {},
   "outputs": [
    {
     "data": {
      "text/plain": [
       "Text(0.5, 1.0, 'Normalized confusion matrix')"
      ]
     },
     "execution_count": 52,
     "metadata": {},
     "output_type": "execute_result"
    },
    {
     "data": {
      "image/png": "[encoded data removed]",
      "text/plain": [
       "<Figure size 504x504 with 2 Axes>"
      ]
     },
     "metadata": {
      "needs_background": "light"
     },
     "output_type": "display_data"
    },
    {
     "data": {
      "image/png": "[encoded data removed]",
      "text/plain": [
       "<Figure size 504x504 with 2 Axes>"
      ]
     },
     "metadata": {
      "needs_background": "light"
     },
     "output_type": "display_data"
    }
   ],
   "source": [
    "cm_gbt_gml= confusion_matrix(collision_ytest, preds_xgb)\n",
    "cm_gbt_norm_gml = confusion_matrix(collision_ytest, preds_xgb, normalize=\"true\")\n",
    "\n",
    "plt.figure(figsize=(7,7))\n",
    "sns.heatmap(cm_gbt_gml, annot=True, fmt=\".3f\", linewidths=1, square = True, cmap = 'Blues_r');\n",
    "plt.ylabel('Actual label');\n",
    "plt.xlabel('Predicted label');\n",
    "plt.title(\"Confusion matrix\")\n",
    "\n",
    "plt.figure(figsize=(7,7))\n",
    "sns.heatmap(cm_gbt_norm_gml, annot=True, fmt=\".3f\", linewidths=1, square = True, cmap = 'Blues_r');\n",
    "plt.ylabel('Actual label');\n",
    "plt.xlabel('Predicted label');\n",
    "plt.title(\"Normalized confusion matrix\")"
   ]
  },
  {
   "cell_type": "code",
   "execution_count": 53,
   "id": "7b4e0897",
   "metadata": {},
   "outputs": [
    {
     "name": "stdout",
     "output_type": "stream",
     "text": [
      "Classification Report\n",
      "              precision    recall  f1-score   support\n",
      "\n",
      "           0       0.98      1.00      0.99   1318352\n",
      "           1       0.69      0.02      0.05     22015\n",
      "\n",
      "    accuracy                           0.98   1340367\n",
      "   macro avg       0.84      0.51      0.52   1340367\n",
      "weighted avg       0.98      0.98      0.98   1340367\n",
      "\n"
     ]
    }
   ],
   "source": [
    "print(\"Classification Report\")\n",
    "print(classification_report(collision_ytest, preds_xgb))"
   ]
  },
  {
   "cell_type": "code",
   "execution_count": 54,
   "id": "f3c39afe",
   "metadata": {},
   "outputs": [
    {
     "data": {
      "text/plain": [
       "0.047203334064487824"
      ]
     },
     "execution_count": 54,
     "metadata": {},
     "output_type": "execute_result"
    }
   ],
   "source": [
    "score = f1_score(collision_ytest, preds_xgb)\n",
    "score"
   ]
  },
  {
   "cell_type": "markdown",
   "id": "a5308888",
   "metadata": {},
   "source": [
    "### Conclusiones XGBoost"
   ]
  },
  {
   "cell_type": "markdown",
   "id": "b2415078",
   "metadata": {},
   "source": [
    "En el modelo XGBoost, el AUC es del 0.98, lo que puede ser debido a que el modelo haga overfitting a la hora de entrenar el modelo. Esto ya nos ha llevado a no elegirlo para hiperparámetros, pero analizando la F1 score del 4.7%  vemos como, de nuevo, es el recall el que nos disminuye la f1 pero la precisión es también inferior al caso del Random Forest hasta el 69%."
   ]
  },
  {
   "cell_type": "markdown",
   "id": "7ed86f6e",
   "metadata": {},
   "source": [
    "## LightGBOOST"
   ]
  },
  {
   "cell_type": "markdown",
   "id": "755b7fe7",
   "metadata": {},
   "source": [
    "El modelo LightGBM amplía el algoritmo de aumento de gradiente al agregar un tipo de selección automática de funciones y al enfocarse en mejorar ejemplos con gradientes más grandes. Esto puede resultar en una aceleración dramática del entrenamiento y un rendimiento predictivo mejorado."
   ]
  },
  {
   "cell_type": "code",
   "execution_count": null,
   "id": "5984474f",
   "metadata": {},
   "outputs": [],
   "source": [
    "start_lgbm = time.time()\n",
    "\n",
    "model_lgbm = LGBMClassifier(random_state=2021)\n",
    "model_lgbm = model_lgbm.fit(collision_xtrain_l, collision_ytrain)\n",
    "\n",
    "end_lgbm = time.time()\n",
    "\n",
    "print(\"El tiempo de ejecucion para lgbm es:\", end_lgbm-start_lgbm)"
   ]
  },
  {
   "cell_type": "markdown",
   "id": "81efc4c4",
   "metadata": {},
   "source": [
    "### Guardamos el modelo"
   ]
  },
  {
   "cell_type": "code",
   "execution_count": null,
   "id": "d8cebd40",
   "metadata": {},
   "outputs": [],
   "source": [
    "filename_lgbm = '../models/finalized_lgbm.sav'\n",
    "pickle.dump(model_lgbm, open(filename_lgbm, 'wb'))"
   ]
  },
  {
   "cell_type": "markdown",
   "id": "4baadc5e",
   "metadata": {},
   "source": [
    "### Cargamos el modelo"
   ]
  },
  {
   "cell_type": "code",
   "execution_count": 55,
   "id": "083c6109",
   "metadata": {},
   "outputs": [],
   "source": [
    "filename_lgbm = '../models/finalized_lgbm.sav'\n",
    "model_lgbm = pickle.load(open(filename_lgbm, 'rb'))"
   ]
  },
  {
   "cell_type": "markdown",
   "id": "63a11c34",
   "metadata": {},
   "source": [
    "### Vemos el modelo"
   ]
  },
  {
   "cell_type": "code",
   "execution_count": 56,
   "id": "d2d30089",
   "metadata": {},
   "outputs": [],
   "source": [
    "prediccion_lgbm = model_lgbm.predict(collision_xtest_l)"
   ]
  },
  {
   "cell_type": "code",
   "execution_count": 57,
   "id": "caf0b69e",
   "metadata": {},
   "outputs": [],
   "source": [
    "LGBM_prob_predictions = model_lgbm.predict_proba(collision_xtest_l)"
   ]
  },
  {
   "cell_type": "code",
   "execution_count": 58,
   "id": "f552dbea",
   "metadata": {},
   "outputs": [
    {
     "data": {
      "text/plain": [
       "0.983611951055196"
      ]
     },
     "execution_count": 58,
     "metadata": {},
     "output_type": "execute_result"
    }
   ],
   "source": [
    "accuracy_score(collision_ytest, prediccion_lgbm)"
   ]
  },
  {
   "cell_type": "code",
   "execution_count": 59,
   "id": "f75584e7",
   "metadata": {},
   "outputs": [
    {
     "data": {
      "image/png": "[encoded data removed]",
      "text/plain": [
       "<Figure size 432x288 with 1 Axes>"
      ]
     },
     "metadata": {
      "needs_background": "light"
     },
     "output_type": "display_data"
    }
   ],
   "source": [
    "# keep probabilities for the positive outcome only\n",
    "LGBM_yhat = LGBM_prob_predictions[:, 1]\n",
    "# calculate roc curves\n",
    "fpr, tpr, thresholds = roc_curve(collision_ytest, LGBM_yhat)\n",
    "# plot the roc curve for the model\n",
    "plt.plot([0,1], [0,1], linestyle='--', label='No Skill')\n",
    "plt.plot(fpr, tpr, marker='.', label='LGBM')\n",
    "# axis labels\n",
    "plt.xlabel('False Positive Rate')\n",
    "plt.ylabel('True Positive Rate')\n",
    "plt.legend()\n",
    "# show the plot\n",
    "plt.show()"
   ]
  },
  {
   "cell_type": "code",
   "execution_count": 60,
   "id": "94afbecf",
   "metadata": {},
   "outputs": [
    {
     "data": {
      "text/plain": [
       "Text(0.5, 1.0, 'Normalized confusion matrix')"
      ]
     },
     "execution_count": 60,
     "metadata": {},
     "output_type": "execute_result"
    },
    {
     "data": {
      "image/png": "[encoded data removed]",
      "text/plain": [
       "<Figure size 504x504 with 2 Axes>"
      ]
     },
     "metadata": {
      "needs_background": "light"
     },
     "output_type": "display_data"
    },
    {
     "data": {
      "image/png": "[encoded data removed]",
      "text/plain": [
       "<Figure size 504x504 with 2 Axes>"
      ]
     },
     "metadata": {
      "needs_background": "light"
     },
     "output_type": "display_data"
    }
   ],
   "source": [
    "cm_gbt_gml= confusion_matrix(collision_ytest, prediccion_lgbm)\n",
    "cm_gbt_norm_gml = confusion_matrix(collision_ytest, prediccion_lgbm, normalize=\"true\")\n",
    "\n",
    "plt.figure(figsize=(7,7))\n",
    "sns.heatmap(cm_gbt_gml, annot=True, fmt=\".3f\", linewidths=1, square = True, cmap = 'Blues_r');\n",
    "plt.ylabel('Actual label');\n",
    "plt.xlabel('Predicted label');\n",
    "plt.title(\"Confusion matrix\")\n",
    "\n",
    "plt.figure(figsize=(7,7))\n",
    "sns.heatmap(cm_gbt_norm_gml, annot=True, fmt=\".3f\", linewidths=1, square = True, cmap = 'Blues_r');\n",
    "plt.ylabel('Actual label');\n",
    "plt.xlabel('Predicted label');\n",
    "plt.title(\"Normalized confusion matrix\")"
   ]
  },
  {
   "cell_type": "code",
   "execution_count": 61,
   "id": "e34d33fa",
   "metadata": {},
   "outputs": [
    {
     "name": "stdout",
     "output_type": "stream",
     "text": [
      "Classification Report\n",
      "              precision    recall  f1-score   support\n",
      "\n",
      "           0       0.98      1.00      0.99   1318352\n",
      "           1       0.53      0.02      0.03     22015\n",
      "\n",
      "    accuracy                           0.98   1340367\n",
      "   macro avg       0.76      0.51      0.51   1340367\n",
      "weighted avg       0.98      0.98      0.98   1340367\n",
      "\n"
     ]
    }
   ],
   "source": [
    "print(\"Classification Report\")\n",
    "print(classification_report(collision_ytest, prediccion_lgbm))"
   ]
  },
  {
   "cell_type": "code",
   "execution_count": 62,
   "id": "d3d2c435",
   "metadata": {},
   "outputs": [
    {
     "data": {
      "text/plain": [
       "0.034885764499121265"
      ]
     },
     "execution_count": 62,
     "metadata": {},
     "output_type": "execute_result"
    }
   ],
   "source": [
    "score = f1_score(collision_ytest, prediccion_lgbm)\n",
    "score"
   ]
  },
  {
   "cell_type": "markdown",
   "id": "8055a255",
   "metadata": {},
   "source": [
    "### Conclusiones LightGBOOST"
   ]
  },
  {
   "cell_type": "markdown",
   "id": "852711d5",
   "metadata": {},
   "source": [
    "En el caso del LightGBOOST, de nuevo el AUC del 98% nos indica un overfitting en el modelo, lo que nos lleva de nuevo a desecharlo. Tampoco el resultado del F1 score es bueno con un 3.4% debido tambien al bajo recall que tiene unido a, en este caso, una tambien baja precision en los unos."
   ]
  },
  {
   "cell_type": "markdown",
   "id": "c5351f0b",
   "metadata": {},
   "source": [
    "# Hiperparámetros"
   ]
  },
  {
   "cell_type": "markdown",
   "id": "aea5e9f8",
   "metadata": {},
   "source": [
    "Como hemos ido diciendo durante el script, el modelo elegido es el Random Forest ya que es el que nos da unas mejores métricas a pesar del recall. De este modo, hemos probado la optimización de parámetros bastantes veces de manera separada ya que cuando poníamos distintas opciones para que optimizara entre ellas, se bloqueaba el jupyter y no corría el script. Dentro de todas las opciones que hemos probado, siempre hemos elegido 200 estimadores y hemos ido \"jugando\" con el resto de parámetros que aparecen en el código.\n",
    "\n",
    "Tambien cabe destacar el parámetro \"class_weight\", con el cual le quitamos peso a los ceros y le damos mas peso a los unos a la hora del entrenamiento para intentar mitigar el efecto del desbalanceado del dataset."
   ]
  },
  {
   "cell_type": "markdown",
   "id": "746802b4",
   "metadata": {},
   "source": [
    "### Optimización de parámetros"
   ]
  },
  {
   "cell_type": "code",
   "execution_count": null,
   "id": "72e243e4",
   "metadata": {
    "scrolled": true
   },
   "outputs": [],
   "source": [
    "start_rf_hiper = time.time()\n",
    "\n",
    "param_grid = { \n",
    "    'n_estimators': [200],\n",
    "    'max_features': ['auto'], #['auto', 'sqrt', 'log2']\n",
    "    'max_depth' : [4], # [4,5,6,7,8]\n",
    "    'criterion':['gini'],#['gini', 'entropy',\n",
    "    'class_weight' : [{0:0.6,1:1.8}]} \n",
    "    \n",
    "\n",
    "CV = RandomizedSearchCV(modelo, param_grid, cv=3, random_state=0, n_jobs = -1)\n",
    "                  \n",
    "CV = CV.fit(collision_xtrain_l, collision_ytrain)  \n",
    "\n",
    "end_rf_hiper= time.time()\n",
    "\n",
    "print(\"El tiempo de ejecucion para RF con hiperparámetros es:\", end_rf_hiper-start_rf_hiper)\n",
    "\n",
    "print(CV.best_params_)    \n",
    "print(CV.best_score_)"
   ]
  },
  {
   "cell_type": "markdown",
   "id": "ede60db3",
   "metadata": {},
   "source": [
    "### Guardamos el RF con hiperparámetros"
   ]
  },
  {
   "cell_type": "code",
   "execution_count": null,
   "id": "8d743bfe",
   "metadata": {},
   "outputs": [],
   "source": [
    "filename_rf_hiper = '../models/finalized_rf_hiper.sav'\n",
    "pickle.dump(CV, open(filename_rf_hiper, 'wb'))"
   ]
  },
  {
   "cell_type": "markdown",
   "id": "4e6364c3",
   "metadata": {},
   "source": [
    "### Cargamos RF con hiperparámetros con Pickle"
   ]
  },
  {
   "cell_type": "code",
   "execution_count": 63,
   "id": "acdf0a95",
   "metadata": {},
   "outputs": [],
   "source": [
    "filename_rf_hiper = '../models/finalized_rf_hiper.sav'\n",
    "CV = pickle.load(open(filename_rf_hiper, 'rb'))"
   ]
  },
  {
   "cell_type": "markdown",
   "id": "2b2b3c30",
   "metadata": {},
   "source": [
    "### Vemos el modelo"
   ]
  },
  {
   "cell_type": "code",
   "execution_count": 64,
   "id": "969b697d",
   "metadata": {},
   "outputs": [],
   "source": [
    "predictions_hiper = CV.predict(collision_xtest_l)"
   ]
  },
  {
   "cell_type": "code",
   "execution_count": 65,
   "id": "a8e96d73",
   "metadata": {},
   "outputs": [
    {
     "name": "stdout",
     "output_type": "stream",
     "text": [
      "Classification Report\n",
      "              precision    recall  f1-score   support\n",
      "\n",
      "           0       0.99      0.75      0.85   1318352\n",
      "           1       0.04      0.70      0.08     22015\n",
      "\n",
      "    accuracy                           0.75   1340367\n",
      "   macro avg       0.52      0.72      0.47   1340367\n",
      "weighted avg       0.98      0.75      0.84   1340367\n",
      "\n"
     ]
    }
   ],
   "source": [
    "print(\"Classification Report\")\n",
    "print(classification_report(collision_ytest, predictions_hiper))"
   ]
  },
  {
   "cell_type": "code",
   "execution_count": 66,
   "id": "d684028f",
   "metadata": {},
   "outputs": [
    {
     "data": {
      "text/plain": [
       "array([8.77539050e-02, 3.82530914e-01, 9.03174583e-02, 5.20285853e-03,\n",
       "       6.33054879e-02, 1.49967334e-01, 2.89274795e-02, 8.55593368e-03,\n",
       "       7.37067885e-03, 3.73159503e-03, 1.45233815e-01, 8.83334847e-03,\n",
       "       1.07846599e-02, 6.84750615e-03, 2.28003547e-04, 1.37144768e-04,\n",
       "       1.57413606e-04, 1.14463856e-04])"
      ]
     },
     "execution_count": 66,
     "metadata": {},
     "output_type": "execute_result"
    }
   ],
   "source": [
    "CV.best_estimator_.feature_importances_"
   ]
  },
  {
   "cell_type": "code",
   "execution_count": 67,
   "id": "80126449",
   "metadata": {},
   "outputs": [
    {
     "data": {
      "text/plain": [
       "array([[0.65771784, 0.34228216],\n",
       "       [0.77465293, 0.22534707],\n",
       "       [0.81448002, 0.18551998],\n",
       "       ...,\n",
       "       [0.74332565, 0.25667435],\n",
       "       [0.7722617 , 0.2277383 ],\n",
       "       [0.86392491, 0.13607509]])"
      ]
     },
     "execution_count": 67,
     "metadata": {},
     "output_type": "execute_result"
    }
   ],
   "source": [
    "prob_predictions = CV.predict_proba(collision_xtest_l)\n",
    "prob_predictions"
   ]
  },
  {
   "cell_type": "code",
   "execution_count": 68,
   "id": "d775e364",
   "metadata": {},
   "outputs": [
    {
     "data": {
      "text/plain": [
       "0.7007494889847831"
      ]
     },
     "execution_count": 68,
     "metadata": {},
     "output_type": "execute_result"
    }
   ],
   "source": [
    "Recall = recall_score(collision_ytest, predictions_hiper)\n",
    "Recall"
   ]
  },
  {
   "cell_type": "code",
   "execution_count": 69,
   "id": "c21139c0",
   "metadata": {},
   "outputs": [
    {
     "data": {
      "text/plain": [
       "0.04454524979643222"
      ]
     },
     "execution_count": 69,
     "metadata": {},
     "output_type": "execute_result"
    }
   ],
   "source": [
    "Precision = precision_score(collision_ytest, predictions_hiper)\n",
    "Precision"
   ]
  },
  {
   "cell_type": "code",
   "execution_count": 70,
   "id": "8e146fb9",
   "metadata": {},
   "outputs": [
    {
     "data": {
      "image/png": "[encoded data removed]",
      "text/plain": [
       "<Figure size 648x648 with 2 Axes>"
      ]
     },
     "metadata": {
      "needs_background": "light"
     },
     "output_type": "display_data"
    }
   ],
   "source": [
    "cm_gbt = confusion_matrix(collision_ytest, predictions_hiper)\n",
    "\n",
    "plt.figure(figsize=(9,9))\n",
    "sns.heatmap(cm_gbt, annot=True, fmt=\".3f\", linewidths=.5, square = True, cmap = 'Blues_r');\n",
    "plt.ylabel('Actual label');"
   ]
  },
  {
   "cell_type": "code",
   "execution_count": 71,
   "id": "be05ece0",
   "metadata": {},
   "outputs": [
    {
     "name": "stderr",
     "output_type": "stream",
     "text": [
      "C:\\Users\\pablo\\anaconda3\\envs\\Entorno1\\lib\\site-packages\\sklearn\\utils\\deprecation.py:87: FutureWarning: Function plot_confusion_matrix is deprecated; Function `plot_confusion_matrix` is deprecated in 1.0 and will be removed in 1.2. Use one of the class methods: ConfusionMatrixDisplay.from_predictions or ConfusionMatrixDisplay.from_estimator.\n",
      "  warnings.warn(msg, category=FutureWarning)\n"
     ]
    },
    {
     "name": "stdout",
     "output_type": "stream",
     "text": [
      "Confusion matrix, without normalization\n",
      "[[987457 330895]\n",
      " [  6588  15427]]\n"
     ]
    },
    {
     "name": "stderr",
     "output_type": "stream",
     "text": [
      "C:\\Users\\pablo\\anaconda3\\envs\\Entorno1\\lib\\site-packages\\sklearn\\utils\\deprecation.py:87: FutureWarning: Function plot_confusion_matrix is deprecated; Function `plot_confusion_matrix` is deprecated in 1.0 and will be removed in 1.2. Use one of the class methods: ConfusionMatrixDisplay.from_predictions or ConfusionMatrixDisplay.from_estimator.\n",
      "  warnings.warn(msg, category=FutureWarning)\n"
     ]
    },
    {
     "name": "stdout",
     "output_type": "stream",
     "text": [
      "Normalized confusion matrix\n",
      "[[0.74900861 0.25099139]\n",
      " [0.29925051 0.70074949]]\n"
     ]
    },
    {
     "data": {
      "image/png": "[encoded data removed]",
      "text/plain": [
       "<Figure size 432x288 with 2 Axes>"
      ]
     },
     "metadata": {
      "needs_background": "light"
     },
     "output_type": "display_data"
    },
    {
     "data": {
      "image/png": "[encoded data removed]",
      "text/plain": [
       "<Figure size 432x288 with 2 Axes>"
      ]
     },
     "metadata": {
      "needs_background": "light"
     },
     "output_type": "display_data"
    }
   ],
   "source": [
    "# Plot non-normalized confusion matrix\n",
    "titles_options = [(\"Confusion matrix, without normalization\", None),\n",
    "                  (\"Normalized confusion matrix\", 'true')]\n",
    "for title, normalize in titles_options:\n",
    "    disp = plot_confusion_matrix(CV, collision_xtest_l, collision_ytest,\n",
    "                                 # display_labels=ytest,\n",
    "                                 cmap=plt.cm.Blues,\n",
    "                                 normalize=normalize)\n",
    "    disp.ax_.set_title(title)\n",
    "\n",
    "    print(title)\n",
    "    print(disp.confusion_matrix)\n",
    "\n",
    "plt.show()"
   ]
  },
  {
   "cell_type": "code",
   "execution_count": 72,
   "id": "aeb159b8",
   "metadata": {
    "scrolled": true
   },
   "outputs": [
    {
     "data": {
      "image/png": "[encoded data removed]",
      "text/plain": [
       "<Figure size 432x288 with 1 Axes>"
      ]
     },
     "metadata": {
      "needs_background": "light"
     },
     "output_type": "display_data"
    }
   ],
   "source": [
    "# keep probabilities for the positive outcome only\n",
    "yhat = prob_predictions[:, 1]\n",
    "# calculate roc curves\n",
    "fpr, tpr, thresholds = roc_curve(collision_ytest, yhat)\n",
    "# plot the roc curve for the model\n",
    "plt.plot([0,1], [0,1], linestyle='--', label='No Skill')\n",
    "plt.plot(fpr, tpr, marker='.', label='Random Forest')\n",
    "# axis labels\n",
    "plt.xlabel('False Positive Rate')\n",
    "plt.ylabel('True Positive Rate')\n",
    "plt.legend()\n",
    "# show the plot\n",
    "plt.show()"
   ]
  },
  {
   "cell_type": "code",
   "execution_count": 73,
   "id": "625cb43d",
   "metadata": {},
   "outputs": [],
   "source": [
    "# calculate the g-mean for each threshold\n",
    "gmeans = np.sqrt(tpr * (1-fpr))"
   ]
  },
  {
   "cell_type": "code",
   "execution_count": 74,
   "id": "8dfe724a",
   "metadata": {},
   "outputs": [
    {
     "name": "stdout",
     "output_type": "stream",
     "text": [
      "Best Threshold=0.479707, G-Mean=0.729\n"
     ]
    }
   ],
   "source": [
    "# locate the index of the largest g-mean\n",
    "ix = np.argmax(gmeans)\n",
    "print('Best Threshold=%f, G-Mean=%.3f' % (thresholds[ix], gmeans[ix]))"
   ]
  },
  {
   "cell_type": "code",
   "execution_count": 75,
   "id": "f5c0eac8",
   "metadata": {},
   "outputs": [
    {
     "data": {
      "image/png": "[encoded data removed]",
      "text/plain": [
       "<Figure size 432x288 with 1 Axes>"
      ]
     },
     "metadata": {
      "needs_background": "light"
     },
     "output_type": "display_data"
    }
   ],
   "source": [
    "# plot the roc curve for the model\n",
    "plt.plot([0,1], [0,1], linestyle='--', label='No Skill')\n",
    "plt.plot(fpr, tpr, marker='.', label='Random Forest')\n",
    "plt.scatter(fpr[ix], tpr[ix], s=100, marker='o', color='black', label='Best')\n",
    "# axis labels\n",
    "plt.xlabel('False Positive Rate')\n",
    "plt.ylabel('True Positive Rate')\n",
    "plt.legend()\n",
    "# show the plot\n",
    "plt.show()"
   ]
  },
  {
   "cell_type": "code",
   "execution_count": 76,
   "id": "97ecee54",
   "metadata": {},
   "outputs": [],
   "source": [
    "# calculate pr-curve\n",
    "precision, recall, thresholds = precision_recall_curve(collision_ytest, yhat)"
   ]
  },
  {
   "cell_type": "code",
   "execution_count": 77,
   "id": "895e431d",
   "metadata": {},
   "outputs": [
    {
     "data": {
      "image/png": "[encoded data removed]",
      "text/plain": [
       "<Figure size 432x288 with 1 Axes>"
      ]
     },
     "metadata": {
      "needs_background": "light"
     },
     "output_type": "display_data"
    }
   ],
   "source": [
    "# plot the roc curve for the model\n",
    "no_skill = len(collision_ytest[collision_ytest==1]) / len(collision_ytest)\n",
    "plt.plot([0,1], [no_skill,no_skill], linestyle='--', label='No Skill')\n",
    "plt.plot(recall, precision, marker='.', label='Random Forest')\n",
    "# axis labels\n",
    "plt.xlabel('Recall')\n",
    "plt.ylabel('Precision')\n",
    "plt.legend()\n",
    "# show the plot\n",
    "plt.show()"
   ]
  },
  {
   "cell_type": "code",
   "execution_count": 78,
   "id": "c3637d56",
   "metadata": {},
   "outputs": [
    {
     "name": "stderr",
     "output_type": "stream",
     "text": [
      "C:\\Users\\pablo\\AppData\\Local\\Temp/ipykernel_17492/3520246746.py:2: RuntimeWarning: invalid value encountered in true_divide\n",
      "  fscore = (2 * precision * recall) / (precision + recall)\n"
     ]
    },
    {
     "name": "stdout",
     "output_type": "stream",
     "text": [
      "Best Threshold=0.812978, F-Score=nan\n"
     ]
    },
    {
     "data": {
      "image/png": "[encoded data removed]",
      "text/plain": [
       "<Figure size 432x288 with 1 Axes>"
      ]
     },
     "metadata": {
      "needs_background": "light"
     },
     "output_type": "display_data"
    }
   ],
   "source": [
    "# convert to f score\n",
    "fscore = (2 * precision * recall) / (precision + recall)\n",
    "# locate the index of the largest f score\n",
    "ix = np.argmax(fscore)\n",
    "print('Best Threshold=%f, F-Score=%.3f' % (thresholds[ix], fscore[ix]))\n",
    "# plot the roc curve for the model\n",
    "no_skill = len(collision_ytest[collision_ytest==1]) / len(collision_ytest)\n",
    "plt.plot([0,1], [no_skill,no_skill], linestyle='--', label='No Skill')\n",
    "plt.plot(recall, precision, marker='.', label='Random Forest')\n",
    "plt.scatter(recall[ix], precision[ix], s=100, marker='o', color='black', label='Best')\n",
    "# axis labels\n",
    "plt.xlabel('Recall')\n",
    "plt.ylabel('Precision')\n",
    "plt.legend()\n",
    "# show the plot\n",
    "plt.show()"
   ]
  },
  {
   "cell_type": "code",
   "execution_count": 79,
   "id": "aaae8c0c",
   "metadata": {},
   "outputs": [
    {
     "name": "stdout",
     "output_type": "stream",
     "text": [
      "F-Score: 0.08377\n"
     ]
    }
   ],
   "source": [
    "# evaluate the model\n",
    "score = f1_score(collision_ytest, predictions_hiper)\n",
    "print('F-Score: %.5f' % score)"
   ]
  },
  {
   "cell_type": "code",
   "execution_count": 80,
   "id": "3904d9ac",
   "metadata": {},
   "outputs": [
    {
     "data": {
      "image/png": "[encoded data removed]",
      "text/plain": [
       "<Figure size 432x288 with 1 Axes>"
      ]
     },
     "metadata": {
      "needs_background": "light"
     },
     "output_type": "display_data"
    }
   ],
   "source": [
    "import scikitplot as skplt\n",
    "import matplotlib.pyplot as plt\n",
    "\n",
    "skplt.metrics.plot_cumulative_gain(collision_ytest, prob_predictions)\n",
    "plt.show()"
   ]
  },
  {
   "cell_type": "code",
   "execution_count": 81,
   "id": "458ab092",
   "metadata": {},
   "outputs": [
    {
     "data": {
      "image/png": "[encoded data removed]",
      "text/plain": [
       "<Figure size 432x288 with 1 Axes>"
      ]
     },
     "metadata": {
      "needs_background": "light"
     },
     "output_type": "display_data"
    }
   ],
   "source": [
    "skplt.metrics.plot_lift_curve(collision_ytest, prob_predictions)\n",
    "plt.show()"
   ]
  },
  {
   "cell_type": "markdown",
   "id": "9e237f21",
   "metadata": {},
   "source": [
    "### Conclusiones Random Forest con hiperparámetros"
   ]
  },
  {
   "cell_type": "markdown",
   "id": "f2611836",
   "metadata": {},
   "source": [
    "En primer lugar nos aparece un AUC de 0.98, es muy alto lo que nos lleva a suponer overfitting, aunque con cualquier combinación de parámetros utilizada el AUC no ha bajado del 0.92. Respecto al F1 score, nos encontramos con un valor de 0.08, explicado por la baja precisión del modelo, ya que el recall en este caso tiene un valor de 0.7. Por la baja precisión, los gráficos de ganancia acumulada y la Curva Lift aparecen con la linea de 0 sobre el eje x."
   ]
  }
 ],
 "metadata": {
  "kernelspec": {
   "display_name": "Python [conda env:Entorno1]",
   "language": "python",
   "name": "conda-env-Entorno1-py"
  },
  "language_info": {
   "codemirror_mode": {
    "name": "ipython",
    "version": 3
   },
   "file_extension": ".py",
   "mimetype": "text/x-python",
   "name": "python",
   "nbconvert_exporter": "python",
   "pygments_lexer": "ipython3",
   "version": "3.9.7"
  }
 },
 "nbformat": 4,
 "nbformat_minor": 5
}
